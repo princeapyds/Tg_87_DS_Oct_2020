{
  "nbformat": 4,
  "nbformat_minor": 0,
  "metadata": {
    "colab": {
      "name": "Copy of Solution.ipynb",
      "provenance": [],
      "include_colab_link": true
    },
    "kernelspec": {
      "name": "python3",
      "display_name": "Python 3"
    }
  },
  "cells": [
    {
      "cell_type": "markdown",
      "metadata": {
        "id": "view-in-github",
        "colab_type": "text"
      },
      "source": [
        "<a href=\"https://colab.research.google.com/github/princeapyds/Tg_87_DS_Oct_2020/blob/main/Copy_of_Solution.ipynb\" target=\"_parent\"><img src=\"https://colab.research.google.com/assets/colab-badge.svg\" alt=\"Open In Colab\"/></a>"
      ]
    },
    {
      "cell_type": "code",
      "metadata": {
        "colab": {
          "base_uri": "https://localhost:8080/"
        },
        "id": "wF1pbK2rD-5u",
        "outputId": "3b601361-5c05-4908-e53c-52a043060739"
      },
      "source": [
        "for i in list(range(1,6)):\r\n",
        "  print(i**2)"
      ],
      "execution_count": null,
      "outputs": [
        {
          "output_type": "stream",
          "text": [
            "1\n",
            "4\n",
            "9\n",
            "16\n",
            "25\n"
          ],
          "name": "stdout"
        }
      ]
    },
    {
      "cell_type": "code",
      "metadata": {
        "colab": {
          "base_uri": "https://localhost:8080/"
        },
        "id": "SOoxeDPYESd5",
        "outputId": "42dc0519-b726-42df-a35d-b57635f18e00"
      },
      "source": [
        "for i in list(range(1,11)):\r\n",
        "  if i%2 ==0:\r\n",
        "    print(i**2)"
      ],
      "execution_count": null,
      "outputs": [
        {
          "output_type": "stream",
          "text": [
            "4\n",
            "16\n",
            "36\n",
            "64\n",
            "100\n"
          ],
          "name": "stdout"
        }
      ]
    },
    {
      "cell_type": "code",
      "metadata": {
        "colab": {
          "base_uri": "https://localhost:8080/"
        },
        "id": "9qaRkyL6EjJy",
        "outputId": "a30c34ba-6436-4263-b344-0182b9a4d025"
      },
      "source": [
        "for i in [1,2,3,4,5]:\r\n",
        "  print('*'*i)"
      ],
      "execution_count": null,
      "outputs": [
        {
          "output_type": "stream",
          "text": [
            "*\n",
            "**\n",
            "***\n",
            "****\n",
            "*****\n"
          ],
          "name": "stdout"
        }
      ]
    },
    {
      "cell_type": "code",
      "metadata": {
        "colab": {
          "base_uri": "https://localhost:8080/"
        },
        "id": "y1K_IbolHZU-",
        "outputId": "e5da5f7a-f3ef-4829-8b40-8611600742b8"
      },
      "source": [
        "for i in [5,4,3,2,1]:\r\n",
        "  print('*'*i)"
      ],
      "execution_count": null,
      "outputs": [
        {
          "output_type": "stream",
          "text": [
            "*****\n",
            "****\n",
            "***\n",
            "**\n",
            "*\n"
          ],
          "name": "stdout"
        }
      ]
    },
    {
      "cell_type": "code",
      "metadata": {
        "id": "pTObQsgqISME"
      },
      "source": [
        "from random import randint"
      ],
      "execution_count": null,
      "outputs": []
    },
    {
      "cell_type": "code",
      "metadata": {
        "id": "nt85xGOXKaFi"
      },
      "source": [
        "x = randint(1,100)"
      ],
      "execution_count": null,
      "outputs": []
    },
    {
      "cell_type": "code",
      "metadata": {
        "colab": {
          "base_uri": "https://localhost:8080/"
        },
        "id": "LCDqhmJfKfNr",
        "outputId": "0f39099a-b5b1-4136-e86f-5ea28ccbc219"
      },
      "source": [
        "print(x)"
      ],
      "execution_count": null,
      "outputs": [
        {
          "output_type": "stream",
          "text": [
            "74\n"
          ],
          "name": "stdout"
        }
      ]
    },
    {
      "cell_type": "code",
      "metadata": {
        "colab": {
          "base_uri": "https://localhost:8080/"
        },
        "id": "j9DgeuQfKgZL",
        "outputId": "2d16c4c4-c051-4989-d38c-21eb7b5c3463"
      },
      "source": [
        "user  = int(input())"
      ],
      "execution_count": null,
      "outputs": [
        {
          "output_type": "stream",
          "text": [
            "74\n"
          ],
          "name": "stdout"
        }
      ]
    },
    {
      "cell_type": "code",
      "metadata": {
        "colab": {
          "base_uri": "https://localhost:8080/"
        },
        "id": "vSRQgSKJKpba",
        "outputId": "bf6f59d2-8823-4fec-c3e0-27c15f63c8a1"
      },
      "source": [
        "if x == user:\r\n",
        "  print(\"Number matched\")"
      ],
      "execution_count": null,
      "outputs": [
        {
          "output_type": "stream",
          "text": [
            "Number matched\n"
          ],
          "name": "stdout"
        }
      ]
    },
    {
      "cell_type": "code",
      "metadata": {
        "id": "HUhkIdk_K9hc"
      },
      "source": [
        "x = randint(1,100)"
      ],
      "execution_count": null,
      "outputs": []
    },
    {
      "cell_type": "code",
      "metadata": {
        "colab": {
          "base_uri": "https://localhost:8080/"
        },
        "id": "rDBztYDmLLkt",
        "outputId": "a4e8af2f-1a85-49ea-824d-a8c3e886dddf"
      },
      "source": [
        "print(x)"
      ],
      "execution_count": null,
      "outputs": [
        {
          "output_type": "stream",
          "text": [
            "99\n"
          ],
          "name": "stdout"
        }
      ]
    },
    {
      "cell_type": "code",
      "metadata": {
        "colab": {
          "base_uri": "https://localhost:8080/"
        },
        "id": "dNNR3iouK5RJ",
        "outputId": "0a0766e0-4737-4649-a91d-c2c121589804"
      },
      "source": [
        "while True:\r\n",
        "  user  = int(input('Enter a number: '))\r\n",
        "  if x == user:\r\n",
        "    print(\"Number matched\")\r\n",
        "    break"
      ],
      "execution_count": null,
      "outputs": [
        {
          "output_type": "stream",
          "text": [
            "Enter a number: 95\n",
            "Enter a number: 45\n",
            "Enter a number: 99\n",
            "Number matched\n"
          ],
          "name": "stdout"
        }
      ]
    }
  ]
}